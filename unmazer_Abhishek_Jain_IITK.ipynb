{
  "nbformat": 4,
  "nbformat_minor": 0,
  "metadata": {
    "colab": {
      "name": "unmazer_Abhishek_Jain_IITK.ipynb",
      "provenance": []
    },
    "kernelspec": {
      "name": "python3",
      "display_name": "Python 3"
    },
    "language_info": {
      "name": "python"
    }
  },
  "cells": [
    {
      "cell_type": "code",
      "metadata": {
        "id": "ubI1yP4p50z3"
      },
      "source": [
        "import matplotlib.pyplot as plt\n",
        "import pandas as pd\n",
        "!pip install geopandas\n",
        "import geopandas as gpd\n",
        "# Please upload the files listings.csv and neigbourhoods.geojson"
      ],
      "execution_count": null,
      "outputs": []
    },
    {
      "cell_type": "code",
      "metadata": {
        "id": "BulzF38g5_-g"
      },
      "source": [
        "df = pd.read_csv('listings.csv')\n",
        "df['tot_count']=1\n",
        "new = df.groupby(['neighbourhood']).count().sort_values('tot_count',ascending=False)[['tot_count']]"
      ],
      "execution_count": 3,
      "outputs": []
    },
    {
      "cell_type": "code",
      "metadata": {
        "id": "5mEDjRa667au"
      },
      "source": [
        "new.reset_index(level=0, inplace=True)"
      ],
      "execution_count": 4,
      "outputs": []
    },
    {
      "cell_type": "code",
      "metadata": {
        "colab": {
          "base_uri": "https://localhost:8080/",
          "height": 173
        },
        "id": "W_L6GVwT69sX",
        "outputId": "b1b0a179-af31-40af-f995-1d0adb1a4c10"
      },
      "source": [
        "new.head(4)"
      ],
      "execution_count": 5,
      "outputs": [
        {
          "output_type": "execute_result",
          "data": {
            "text/html": [
              "<div>\n",
              "<style scoped>\n",
              "    .dataframe tbody tr th:only-of-type {\n",
              "        vertical-align: middle;\n",
              "    }\n",
              "\n",
              "    .dataframe tbody tr th {\n",
              "        vertical-align: top;\n",
              "    }\n",
              "\n",
              "    .dataframe thead th {\n",
              "        text-align: right;\n",
              "    }\n",
              "</style>\n",
              "<table border=\"1\" class=\"dataframe\">\n",
              "  <thead>\n",
              "    <tr style=\"text-align: right;\">\n",
              "      <th></th>\n",
              "      <th>neighbourhood</th>\n",
              "      <th>tot_count</th>\n",
              "    </tr>\n",
              "  </thead>\n",
              "  <tbody>\n",
              "    <tr>\n",
              "      <th>0</th>\n",
              "      <td>78704</td>\n",
              "      <td>1822</td>\n",
              "    </tr>\n",
              "    <tr>\n",
              "      <th>1</th>\n",
              "      <td>78702</td>\n",
              "      <td>1263</td>\n",
              "    </tr>\n",
              "    <tr>\n",
              "      <th>2</th>\n",
              "      <td>78701</td>\n",
              "      <td>713</td>\n",
              "    </tr>\n",
              "    <tr>\n",
              "      <th>3</th>\n",
              "      <td>78741</td>\n",
              "      <td>622</td>\n",
              "    </tr>\n",
              "  </tbody>\n",
              "</table>\n",
              "</div>"
            ],
            "text/plain": [
              "   neighbourhood  tot_count\n",
              "0          78704       1822\n",
              "1          78702       1263\n",
              "2          78701        713\n",
              "3          78741        622"
            ]
          },
          "metadata": {
            "tags": []
          },
          "execution_count": 5
        }
      ]
    },
    {
      "cell_type": "code",
      "metadata": {
        "colab": {
          "base_uri": "https://localhost:8080/",
          "height": 390
        },
        "id": "mIu0iiGR7DwY",
        "outputId": "d070b942-e284-4720-f883-417bd8f2a410"
      },
      "source": [
        "df.groupby(['host_name']).count().sort_values('tot_count',ascending=False)[['tot_count']].head(10)"
      ],
      "execution_count": 6,
      "outputs": [
        {
          "output_type": "execute_result",
          "data": {
            "text/html": [
              "<div>\n",
              "<style scoped>\n",
              "    .dataframe tbody tr th:only-of-type {\n",
              "        vertical-align: middle;\n",
              "    }\n",
              "\n",
              "    .dataframe tbody tr th {\n",
              "        vertical-align: top;\n",
              "    }\n",
              "\n",
              "    .dataframe thead th {\n",
              "        text-align: right;\n",
              "    }\n",
              "</style>\n",
              "<table border=\"1\" class=\"dataframe\">\n",
              "  <thead>\n",
              "    <tr style=\"text-align: right;\">\n",
              "      <th></th>\n",
              "      <th>tot_count</th>\n",
              "    </tr>\n",
              "    <tr>\n",
              "      <th>host_name</th>\n",
              "      <th></th>\n",
              "    </tr>\n",
              "  </thead>\n",
              "  <tbody>\n",
              "    <tr>\n",
              "      <th>Kia</th>\n",
              "      <td>398</td>\n",
              "    </tr>\n",
              "    <tr>\n",
              "      <th>WanderJaunt</th>\n",
              "      <td>131</td>\n",
              "    </tr>\n",
              "    <tr>\n",
              "      <th>TurnKey Vacation Rentals</th>\n",
              "      <td>124</td>\n",
              "    </tr>\n",
              "    <tr>\n",
              "      <th>Martin</th>\n",
              "      <td>101</td>\n",
              "    </tr>\n",
              "    <tr>\n",
              "      <th>Michael</th>\n",
              "      <td>98</td>\n",
              "    </tr>\n",
              "    <tr>\n",
              "      <th>David</th>\n",
              "      <td>76</td>\n",
              "    </tr>\n",
              "    <tr>\n",
              "      <th>Sarah</th>\n",
              "      <td>74</td>\n",
              "    </tr>\n",
              "    <tr>\n",
              "      <th>Ryan</th>\n",
              "      <td>67</td>\n",
              "    </tr>\n",
              "    <tr>\n",
              "      <th>James</th>\n",
              "      <td>62</td>\n",
              "    </tr>\n",
              "    <tr>\n",
              "      <th>Renters Club</th>\n",
              "      <td>56</td>\n",
              "    </tr>\n",
              "  </tbody>\n",
              "</table>\n",
              "</div>"
            ],
            "text/plain": [
              "                          tot_count\n",
              "host_name                          \n",
              "Kia                             398\n",
              "WanderJaunt                     131\n",
              "TurnKey Vacation Rentals        124\n",
              "Martin                          101\n",
              "Michael                          98\n",
              "David                            76\n",
              "Sarah                            74\n",
              "Ryan                             67\n",
              "James                            62\n",
              "Renters Club                     56"
            ]
          },
          "metadata": {
            "tags": []
          },
          "execution_count": 6
        }
      ]
    },
    {
      "cell_type": "markdown",
      "metadata": {
        "id": "bJN-nywr8Fr3"
      },
      "source": [
        "# The above table is the answer of part c, i.e. top 10 hosts by no. of listings"
      ]
    },
    {
      "cell_type": "code",
      "metadata": {
        "id": "2S0OefGs7Hoy"
      },
      "source": [
        "x = gpd.read_file('neighbourhoods.geojson')"
      ],
      "execution_count": 7,
      "outputs": []
    },
    {
      "cell_type": "code",
      "metadata": {
        "id": "iYRuBEby7Klk"
      },
      "source": [
        "x['neighbourhood']=x['neighbourhood'].astype(int)\n",
        "x = pd.merge(new,x,how=\"outer\",left_on=\"neighbourhood\",right_on=\"neighbourhood\")"
      ],
      "execution_count": 8,
      "outputs": []
    },
    {
      "cell_type": "code",
      "metadata": {
        "colab": {
          "base_uri": "https://localhost:8080/",
          "height": 182
        },
        "id": "Bg1SBZ3m7NI6",
        "outputId": "11ecfc6a-56c9-43c2-c8ee-fb4a8de4abb0"
      },
      "source": [
        "x = x.set_geometry('geometry')\n",
        "x['centroid'] = x.centroid\n",
        "x.head(2)"
      ],
      "execution_count": 9,
      "outputs": [
        {
          "output_type": "stream",
          "text": [
            "/usr/local/lib/python3.7/dist-packages/ipykernel_launcher.py:2: UserWarning: Geometry is in a geographic CRS. Results from 'centroid' are likely incorrect. Use 'GeoSeries.to_crs()' to re-project geometries to a projected CRS before this operation.\n",
            "\n",
            "  \n"
          ],
          "name": "stderr"
        },
        {
          "output_type": "execute_result",
          "data": {
            "text/html": [
              "<div>\n",
              "<style scoped>\n",
              "    .dataframe tbody tr th:only-of-type {\n",
              "        vertical-align: middle;\n",
              "    }\n",
              "\n",
              "    .dataframe tbody tr th {\n",
              "        vertical-align: top;\n",
              "    }\n",
              "\n",
              "    .dataframe thead th {\n",
              "        text-align: right;\n",
              "    }\n",
              "</style>\n",
              "<table border=\"1\" class=\"dataframe\">\n",
              "  <thead>\n",
              "    <tr style=\"text-align: right;\">\n",
              "      <th></th>\n",
              "      <th>neighbourhood</th>\n",
              "      <th>tot_count</th>\n",
              "      <th>neighbourhood_group</th>\n",
              "      <th>geometry</th>\n",
              "      <th>centroid</th>\n",
              "    </tr>\n",
              "  </thead>\n",
              "  <tbody>\n",
              "    <tr>\n",
              "      <th>0</th>\n",
              "      <td>78704</td>\n",
              "      <td>1822</td>\n",
              "      <td>None</td>\n",
              "      <td>MULTIPOLYGON (((-97.75447 30.26507, -97.75410 ...</td>\n",
              "      <td>POINT (-97.76547 30.24373)</td>\n",
              "    </tr>\n",
              "    <tr>\n",
              "      <th>1</th>\n",
              "      <td>78702</td>\n",
              "      <td>1263</td>\n",
              "      <td>None</td>\n",
              "      <td>MULTIPOLYGON (((-97.69186 30.24848, -97.69172 ...</td>\n",
              "      <td>POINT (-97.71454 30.26318)</td>\n",
              "    </tr>\n",
              "  </tbody>\n",
              "</table>\n",
              "</div>"
            ],
            "text/plain": [
              "   neighbourhood  ...                    centroid\n",
              "0          78704  ...  POINT (-97.76547 30.24373)\n",
              "1          78702  ...  POINT (-97.71454 30.26318)\n",
              "\n",
              "[2 rows x 5 columns]"
            ]
          },
          "metadata": {
            "tags": []
          },
          "execution_count": 9
        }
      ]
    },
    {
      "cell_type": "code",
      "metadata": {
        "colab": {
          "base_uri": "https://localhost:8080/",
          "height": 298
        },
        "id": "5n4M0CWC7Vbi",
        "outputId": "45eee5e0-34ef-43a7-876d-c5143770f62c"
      },
      "source": [
        "ax = x.plot('tot_count',legend=True)\n",
        "x.iloc[0:5]['centroid'].plot(ax=ax,color = 'black')\n",
        "plt.title('Highest number of listings')"
      ],
      "execution_count": 19,
      "outputs": [
        {
          "output_type": "execute_result",
          "data": {
            "text/plain": [
              "Text(0.5, 1.0, 'Highest number of listings')"
            ]
          },
          "metadata": {
            "tags": []
          },
          "execution_count": 19
        },
        {
          "output_type": "display_data",
          "data": {
            "image/png": "[encoded data removed]",
            "text/plain": [
              "<Figure size 432x288 with 2 Axes>"
            ]
          },
          "metadata": {
            "tags": [],
            "needs_background": "light"
          }
        }
      ]
    },
    {
      "cell_type": "markdown",
      "metadata": {
        "id": "MSN2Ts2U871q"
      },
      "source": [
        "# In the above graph Top 5 areas with the highest number of listings are marked. "
      ]
    },
    {
      "cell_type": "code",
      "metadata": {
        "id": "kJbLGaGp7Zgs"
      },
      "source": [
        "df = pd.read_csv('listings.csv')\n",
        "df['priv_room_count']=1"
      ],
      "execution_count": 11,
      "outputs": []
    },
    {
      "cell_type": "code",
      "metadata": {
        "id": "IH7KhE0k7cas"
      },
      "source": [
        "AirBnb = df.loc[df['room_type']=='Private room'].groupby(['neighbourhood']).count().sort_values('priv_room_count',ascending=False)[['priv_room_count']]"
      ],
      "execution_count": 12,
      "outputs": []
    },
    {
      "cell_type": "code",
      "metadata": {
        "id": "4_hpQ0tG7c-c"
      },
      "source": [
        "AirBnb.reset_index(level=0, inplace=True)"
      ],
      "execution_count": 13,
      "outputs": []
    },
    {
      "cell_type": "code",
      "metadata": {
        "id": "5VNrScuN7gpV"
      },
      "source": [
        "AirBnb = pd.merge(AirBnb,x,how=\"outer\",left_on=\"neighbourhood\",right_on=\"neighbourhood\")"
      ],
      "execution_count": 14,
      "outputs": []
    },
    {
      "cell_type": "code",
      "metadata": {
        "id": "h122Miq97itS"
      },
      "source": [
        "AirBnb['entire_home'] = AirBnb['tot_count']-AirBnb['priv_room_count']"
      ],
      "execution_count": 15,
      "outputs": []
    },
    {
      "cell_type": "code",
      "metadata": {
        "id": "eRUCb2f57ll1"
      },
      "source": [
        "cols = list(AirBnb.columns)\n",
        "AirBnb = AirBnb[cols[0:2]+[cols[-1]]+cols[2:6]]"
      ],
      "execution_count": 16,
      "outputs": []
    },
    {
      "cell_type": "code",
      "metadata": {
        "colab": {
          "base_uri": "https://localhost:8080/",
          "height": 204
        },
        "id": "0c5J3Yfd_MBR",
        "outputId": "eff59997-7128-45aa-e557-65e40d2e2186"
      },
      "source": [
        "AirBnb.head(5)"
      ],
      "execution_count": 22,
      "outputs": [
        {
          "output_type": "execute_result",
          "data": {
            "text/html": [
              "<div>\n",
              "<style scoped>\n",
              "    .dataframe tbody tr th:only-of-type {\n",
              "        vertical-align: middle;\n",
              "    }\n",
              "\n",
              "    .dataframe tbody tr th {\n",
              "        vertical-align: top;\n",
              "    }\n",
              "\n",
              "    .dataframe thead th {\n",
              "        text-align: right;\n",
              "    }\n",
              "</style>\n",
              "<table border=\"1\" class=\"dataframe\">\n",
              "  <thead>\n",
              "    <tr style=\"text-align: right;\">\n",
              "      <th></th>\n",
              "      <th>neighbourhood</th>\n",
              "      <th>priv_room_count</th>\n",
              "      <th>entire_home</th>\n",
              "      <th>tot_count</th>\n",
              "      <th>neighbourhood_group</th>\n",
              "      <th>geometry</th>\n",
              "      <th>centroid</th>\n",
              "    </tr>\n",
              "  </thead>\n",
              "  <tbody>\n",
              "    <tr>\n",
              "      <th>0</th>\n",
              "      <td>78704</td>\n",
              "      <td>223.0</td>\n",
              "      <td>1599.0</td>\n",
              "      <td>1822</td>\n",
              "      <td>None</td>\n",
              "      <td>MULTIPOLYGON (((-97.75447 30.26507, -97.75410 ...</td>\n",
              "      <td>POINT (-97.76547 30.24373)</td>\n",
              "    </tr>\n",
              "    <tr>\n",
              "      <th>1</th>\n",
              "      <td>78702</td>\n",
              "      <td>195.0</td>\n",
              "      <td>1068.0</td>\n",
              "      <td>1263</td>\n",
              "      <td>None</td>\n",
              "      <td>MULTIPOLYGON (((-97.69186 30.24848, -97.69172 ...</td>\n",
              "      <td>POINT (-97.71454 30.26318)</td>\n",
              "    </tr>\n",
              "    <tr>\n",
              "      <th>2</th>\n",
              "      <td>78741</td>\n",
              "      <td>194.0</td>\n",
              "      <td>428.0</td>\n",
              "      <td>622</td>\n",
              "      <td>None</td>\n",
              "      <td>MULTIPOLYGON (((-97.70652 30.25024, -97.70628 ...</td>\n",
              "      <td>POINT (-97.71488 30.23040)</td>\n",
              "    </tr>\n",
              "    <tr>\n",
              "      <th>3</th>\n",
              "      <td>78705</td>\n",
              "      <td>142.0</td>\n",
              "      <td>363.0</td>\n",
              "      <td>505</td>\n",
              "      <td>None</td>\n",
              "      <td>MULTIPOLYGON (((-97.72978 30.29871, -97.72893 ...</td>\n",
              "      <td>POINT (-97.73873 30.29255)</td>\n",
              "    </tr>\n",
              "    <tr>\n",
              "      <th>4</th>\n",
              "      <td>78745</td>\n",
              "      <td>140.0</td>\n",
              "      <td>373.0</td>\n",
              "      <td>513</td>\n",
              "      <td>None</td>\n",
              "      <td>MULTIPOLYGON (((-97.79207 30.23183, -97.78922 ...</td>\n",
              "      <td>POINT (-97.79676 30.20702)</td>\n",
              "    </tr>\n",
              "  </tbody>\n",
              "</table>\n",
              "</div>"
            ],
            "text/plain": [
              "   neighbourhood  ...                    centroid\n",
              "0          78704  ...  POINT (-97.76547 30.24373)\n",
              "1          78702  ...  POINT (-97.71454 30.26318)\n",
              "2          78741  ...  POINT (-97.71488 30.23040)\n",
              "3          78705  ...  POINT (-97.73873 30.29255)\n",
              "4          78745  ...  POINT (-97.79676 30.20702)\n",
              "\n",
              "[5 rows x 7 columns]"
            ]
          },
          "metadata": {
            "tags": []
          },
          "execution_count": 22
        }
      ]
    },
    {
      "cell_type": "code",
      "metadata": {
        "colab": {
          "base_uri": "https://localhost:8080/",
          "height": 298
        },
        "id": "jMJNjVv87pMt",
        "outputId": "c8d8f6b4-fd78-42f7-f066-f5c050399f44"
      },
      "source": [
        "AirBnb = AirBnb.set_geometry('geometry')\n",
        "AirBnb.plot('priv_room_count',cmap ='Greens' ,legend=True)\n",
        "plt.title('Private_rooms_thematic_map')"
      ],
      "execution_count": 20,
      "outputs": [
        {
          "output_type": "execute_result",
          "data": {
            "text/plain": [
              "Text(0.5, 1.0, 'Private_rooms_thematic_map')"
            ]
          },
          "metadata": {
            "tags": []
          },
          "execution_count": 20
        },
        {
          "output_type": "display_data",
          "data": {
            "image/png": "[encoded data removed]",
            "text/plain": [
              "<Figure size 432x288 with 2 Axes>"
            ]
          },
          "metadata": {
            "tags": [],
            "needs_background": "light"
          }
        }
      ]
    },
    {
      "cell_type": "code",
      "metadata": {
        "colab": {
          "base_uri": "https://localhost:8080/",
          "height": 298
        },
        "id": "pewIK6Ep7r37",
        "outputId": "79350296-fd0e-4c74-9021-ddf29ff5f9e2"
      },
      "source": [
        "AirBnb.plot('entire_home',cmap='Greens',legend=True)\n",
        "plt.title('Entire_home_thematic_map')"
      ],
      "execution_count": 21,
      "outputs": [
        {
          "output_type": "execute_result",
          "data": {
            "text/plain": [
              "Text(0.5, 1.0, 'Entire_home_thematic_map')"
            ]
          },
          "metadata": {
            "tags": []
          },
          "execution_count": 21
        },
        {
          "output_type": "display_data",
          "data": {
            "image/png": "[encoded data removed]",
            "text/plain": [
              "<Figure size 432x288 with 2 Axes>"
            ]
          },
          "metadata": {
            "tags": [],
            "needs_background": "light"
          }
        }
      ]
    },
    {
      "cell_type": "markdown",
      "metadata": {
        "id": "FEdyiifg9peW"
      },
      "source": [
        "# In the above two graphs thematic maps with respect to private_rooms(i.e. single rooms) and entire_house are shown"
      ]
    }
  ]
}